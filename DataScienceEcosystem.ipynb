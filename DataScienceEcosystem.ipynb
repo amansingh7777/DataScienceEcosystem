{
 "cells": [
  {
   "cell_type": "markdown",
   "id": "c6926fe0-f777-4c1d-9f27-df22dcafc144",
   "metadata": {},
   "source": [
    "# Data Science Ecosystem"
   ]
  },
  {
   "cell_type": "markdown",
   "id": "7cfd3255-02c0-4463-8af2-3dde96ddd6b0",
   "metadata": {},
   "source": [
    "##### In this notebook, data science tools and ecosystem are summarized"
   ]
  },
  {
   "cell_type": "markdown",
   "id": "8def9741-ef15-4c1e-b21e-aa0aaaea3371",
   "metadata": {},
   "source": [
    "**Objectives**:\n",
    "\n",
    "* List popular languages for Data Science\n",
    "* Getting started with Python\n",
    "* Getting started with RStudio\n",
    "* Jupyter Notebook\n",
    "* What is Anaconda Framework"
   ]
  },
  {
   "cell_type": "markdown",
   "id": "5300f0d7-59b1-4aa5-abca-1f8cb6d0abe4",
   "metadata": {},
   "source": [
    "##### Some of the popular languages that Data Scientists use are:\n",
    "1. Julia\n",
    "2. Python\n",
    "3. R"
   ]
  },
  {
   "cell_type": "markdown",
   "id": "14e9d9bc-4391-495f-bfe1-3ef87b3ce3e3",
   "metadata": {},
   "source": [
    "##### Some of the commonly used librari3es by data scientists are\n",
    "1. ggplot\n",
    "2. caret\n",
    "3. dplyr\n",
    "4. stringr"
   ]
  },
  {
   "cell_type": "markdown",
   "id": "46aeb372-92a8-4f83-8cd5-bac8be796360",
   "metadata": {},
   "source": [
    "|Data Science Tools|\n",
    "--------------------\n",
    "|Rstudio|\n",
    "|JupyterNotebook|\n",
    "|Spyder|"
   ]
  },
  {
   "cell_type": "markdown",
   "id": "e5276f2e-8374-4db5-a098-c0fbbda50640",
   "metadata": {},
   "source": [
    "### Below are few examples of evaluating arithmetic expression in Python."
   ]
  },
  {
   "cell_type": "markdown",
   "id": "bb528d9c-a80d-4bd0-a1af-30feef77da2d",
   "metadata": {},
   "source": [
    "###### This is a simple arithmetic expression to multiply then add integers"
   ]
  },
  {
   "cell_type": "code",
   "execution_count": 1,
   "id": "54aba298-7ef4-49e7-bdd6-96d27d55b747",
   "metadata": {},
   "outputs": [
    {
     "data": {
      "text/plain": [
       "17"
      ]
     },
     "execution_count": 1,
     "metadata": {},
     "output_type": "execute_result"
    }
   ],
   "source": [
    "( 3 * 4 ) + 5"
   ]
  },
  {
   "cell_type": "markdown",
   "id": "e6212e00-032c-4f43-80e6-0ba4edf0e683",
   "metadata": {},
   "source": [
    "###### This will convert 200 minutes to hours by dividing by 60"
   ]
  },
  {
   "cell_type": "code",
   "execution_count": 2,
   "id": "6bd42e66-098c-49e3-94e7-7335f5714451",
   "metadata": {},
   "outputs": [
    {
     "data": {
      "text/plain": [
       "3.3333333333333335"
      ]
     },
     "execution_count": 2,
     "metadata": {},
     "output_type": "execute_result"
    }
   ],
   "source": [
    "200 / 60"
   ]
  },
  {
   "cell_type": "markdown",
   "id": "bb98a94d-18f3-45f7-87a2-1480cc0b69cc",
   "metadata": {},
   "source": [
    "## Author\n",
    "Aman"
   ]
  },
  {
   "cell_type": "code",
   "execution_count": null,
   "id": "e3a52ee8-d27a-40f9-bc78-f05d787d9bcd",
   "metadata": {},
   "outputs": [],
   "source": []
  }
 ],
 "metadata": {
  "kernelspec": {
   "display_name": "Python 3 (ipykernel)",
   "language": "python",
   "name": "python3"
  },
  "language_info": {
   "codemirror_mode": {
    "name": "ipython",
    "version": 3
   },
   "file_extension": ".py",
   "mimetype": "text/x-python",
   "name": "python",
   "nbconvert_exporter": "python",
   "pygments_lexer": "ipython3",
   "version": "3.9.18"
  }
 },
 "nbformat": 4,
 "nbformat_minor": 5
}
